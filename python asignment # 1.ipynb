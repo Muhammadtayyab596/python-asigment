{
 "cells": [
  {
   "cell_type": "code",
   "execution_count": 1,
   "metadata": {},
   "outputs": [
    {
     "name": "stdout",
     "output_type": "stream",
     "text": [
      "Twinkle, twinkle , little star,\n",
      "     how i wonder what you are\n",
      "          Up above the world so high\n",
      "          Like a diamond in the sky\n",
      "Twinkle, Twikle, little star,\n",
      "       How i wonder what  are\n"
     ]
    }
   ],
   "source": [
    "print(\"Twinkle, twinkle , little star,\");\n",
    "print(\"     how i wonder what you are\");\n",
    "print(\"          Up above the world so high\");\n",
    "print(\"          Like a diamond in the sky\");\n",
    "print(\"Twinkle, Twikle, little star,\")\n",
    "print(\"       How i wonder what  are\")"
   ]
  },
  {
   "cell_type": "code",
   "execution_count": 2,
   "metadata": {},
   "outputs": [
    {
     "name": "stdout",
     "output_type": "stream",
     "text": [
      "3 November 2019\n",
      "5:38\n"
     ]
    }
   ],
   "source": [
    "date = \"3 November 2019\"\n",
    "print(date)\n",
    "time = \"5:38\"\n",
    "print(time)"
   ]
  },
  {
   "cell_type": "code",
   "execution_count": 3,
   "metadata": {},
   "outputs": [
    {
     "name": "stdout",
     "output_type": "stream",
     "text": [
      "python version\n",
      "3.7.4 (default, Aug  9 2019, 18:34:13) [MSC v.1915 64 bit (AMD64)]\n"
     ]
    }
   ],
   "source": [
    "import sys\n",
    "print(\"python version\");\n",
    "print(sys.version);"
   ]
  },
  {
   "cell_type": "code",
   "execution_count": 4,
   "metadata": {},
   "outputs": [
    {
     "name": "stdout",
     "output_type": "stream",
     "text": [
      "Enter the radius:3\n",
      "Area of circle = 28.278\n"
     ]
    }
   ],
   "source": [
    "Pi=3.142\n",
    "radius = float(input('Enter the radius:'))\n",
    "area = Pi*radius*radius\n",
    "print(\"Area of circle =\",area);"
   ]
  },
  {
   "cell_type": "code",
   "execution_count": 7,
   "metadata": {},
   "outputs": [
    {
     "name": "stdout",
     "output_type": "stream",
     "text": [
      "Enter a first number2\n",
      "Enter a second number3\n",
      "5\n"
     ]
    }
   ],
   "source": [
    "a = int(input('Enter a first number'))\n",
    "b = int(input('Enter a second number'))\n",
    "c = a + b\n",
    "print(c)"
   ]
  },
  {
   "cell_type": "code",
   "execution_count": 8,
   "metadata": {},
   "outputs": [
    {
     "name": "stdout",
     "output_type": "stream",
     "text": [
      "Enter your first name: Tayyab\n",
      "Enter your last name:Nadeem\n",
      "Nadeem Tayyab\n"
     ]
    }
   ],
   "source": [
    "fisrtname = input(\"Enter your first name: \")\n",
    "lastname = input(\"Enter your last name:\")\n",
    "print(lastname + \" \" + fisrtname)"
   ]
  },
  {
   "cell_type": "code",
   "execution_count": null,
   "metadata": {},
   "outputs": [],
   "source": []
  }
 ],
 "metadata": {
  "kernelspec": {
   "display_name": "Python 3",
   "language": "python",
   "name": "python3"
  },
  "language_info": {
   "codemirror_mode": {
    "name": "ipython",
    "version": 3
   },
   "file_extension": ".py",
   "mimetype": "text/x-python",
   "name": "python",
   "nbconvert_exporter": "python",
   "pygments_lexer": "ipython3",
   "version": "3.7.4"
  }
 },
 "nbformat": 4,
 "nbformat_minor": 2
}
