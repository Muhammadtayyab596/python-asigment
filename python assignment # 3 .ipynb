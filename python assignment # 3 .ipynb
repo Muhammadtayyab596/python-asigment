{
 "cells": [
  {
   "cell_type": "code",
   "execution_count": 2,
   "metadata": {},
   "outputs": [
    {
     "name": "stdout",
     "output_type": "stream",
     "text": [
      "enter first value3\n",
      "Enter second value3\n",
      "Enter operator**\n",
      "27 answer\n"
     ]
    }
   ],
   "source": [
    "value1 = int(input('enter first value'))\n",
    "value2 = int(input('Enter second value'))\n",
    "operator = input('Enter operator')\n",
    "if operator == '+':\n",
    "    value = value1 + value2\n",
    "    print(value,'answer')\n",
    "elif operator == '-':\n",
    "    value = value1 - value2\n",
    "    printf(value,'answer')\n",
    "elif operator == '*':\n",
    "    value = value1 * value2\n",
    "    print(value,'answer')\n",
    "elif operator == '/':\n",
    "    value = value1 / value2\n",
    "    print(value,'answer')\n",
    "elif operator == '**':\n",
    "    value = value1 ** value2\n",
    "    print(value,'answer')\n",
    "else:\n",
    "    print(\"enter correct operator\");\n",
    "    \n",
    "    "
   ]
  },
  {
   "cell_type": "code",
   "execution_count": 7,
   "metadata": {
    "scrolled": true
   },
   "outputs": [
    {
     "name": "stdout",
     "output_type": "stream",
     "text": [
      "This is numeric value : 1\n",
      "This is not numeric:  M_TAYYAb\n",
      "This is numeric value : 88\n",
      "This is not numeric:  B\n",
      "This is numeric value : 2\n",
      "This is not numeric:  d\n"
     ]
    }
   ],
   "source": [
    "list= [1,\"M_TAYYAb\",88,\"B\",2,\"d\"]\n",
    "for a in list:\n",
    "    if type(a) == int:\n",
    "        print(\"This is numeric value :\",a)  \n",
    "    else:\n",
    "        print(\"This is not numeric: \",a) "
   ]
  },
  {
   "cell_type": "code",
   "execution_count": 13,
   "metadata": {},
   "outputs": [
    {
     "name": "stdout",
     "output_type": "stream",
     "text": [
      "{'tayyab': 'Nadeem', 18: 50, 9: 68}\n",
      "{'tayyab': 'Nadeem', 18: 50, 9: 68, 'M_Tayyab': 30}\n"
     ]
    }
   ],
   "source": [
    "t = {'tayyab':'Nadeem',18:50, 9:68}\n",
    "print(t)\n",
    "t['M_Tayyab'] = 30\n",
    "print(t)"
   ]
  },
  {
   "cell_type": "code",
   "execution_count": 20,
   "metadata": {},
   "outputs": [
    {
     "name": "stdout",
     "output_type": "stream",
     "text": [
      "Sum : 179\n"
     ]
    }
   ],
   "source": [
    "sum=0\n",
    "dict = {'a': 33, 'b': 49, 'c':97} \n",
    "for j in dict: \n",
    "        sum = sum + dict[j]\n",
    "print(\"Sum :\", sum )"
   ]
  },
  {
   "cell_type": "code",
   "execution_count": 30,
   "metadata": {},
   "outputs": [
    {
     "name": "stdout",
     "output_type": "stream",
     "text": [
      "[2, 9, 12]\n"
     ]
    }
   ],
   "source": [
    "lst = [ 2, 6, 9, 12, 2, 30, 15, 9, 45, 36, 12, 12]\n",
    "dupItems = []\n",
    "uniqItems = {}\n",
    "for x in lst:\n",
    "   if x not in uniqItems:\n",
    "      uniqItems[x] = 1\n",
    "   else:\n",
    "      if uniqItems[x] == 1:\n",
    "         dupItems.append(x)\n",
    "      uniqItems[x] += 1\n",
    "print(dupItems)"
   ]
  },
  {
   "cell_type": "code",
   "execution_count": 41,
   "metadata": {},
   "outputs": [
    {
     "name": "stdout",
     "output_type": "stream",
     "text": [
      "Key is present in the dictionary\n",
      "\n",
      "\n",
      "Key is not present in the dictionary\n"
     ]
    }
   ],
   "source": [
    "d = {1: 10, 2: 20, 3: 30, 4: 40, 5: 50, 6: 60}\n",
    "def is_key_present(x):\n",
    "  if x in d:\n",
    "      print('Key is present in the dictionary')\n",
    "  else:\n",
    "      print('Key is not present in the dictionary')\n",
    "is_key_present(5)\n",
    "print(\"\\n\")\n",
    "is_key_present(9)"
   ]
  },
  {
   "cell_type": "code",
   "execution_count": null,
   "metadata": {},
   "outputs": [],
   "source": [
    "                                         #done 1 2 3 "
   ]
  },
  {
   "cell_type": "code",
   "execution_count": null,
   "metadata": {},
   "outputs": [],
   "source": []
  }
 ],
 "metadata": {
  "kernelspec": {
   "display_name": "Python 3",
   "language": "python",
   "name": "python3"
  },
  "language_info": {
   "codemirror_mode": {
    "name": "ipython",
    "version": 3
   },
   "file_extension": ".py",
   "mimetype": "text/x-python",
   "name": "python",
   "nbconvert_exporter": "python",
   "pygments_lexer": "ipython3",
   "version": "3.7.4"
  }
 },
 "nbformat": 4,
 "nbformat_minor": 2
}
