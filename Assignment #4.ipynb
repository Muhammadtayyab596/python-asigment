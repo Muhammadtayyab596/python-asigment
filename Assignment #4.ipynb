{
 "cells": [
  {
   "cell_type": "code",
   "execution_count": 1,
   "metadata": {},
   "outputs": [
    {
     "name": "stdout",
     "output_type": "stream",
     "text": [
      "First Name : MUHAMMAD\n",
      "Last Name : FARHAT TAYYAB\n",
      "Age : 18\n",
      "City : Karachi\n",
      "\n",
      "\n",
      "First Name : MUHAMMAD\n",
      "Last Name : FARHAT TAYYAB\n",
      "Age : 18\n",
      "City : Karachi\n",
      "qualification : Intermediate\n",
      "\n",
      "\n",
      "First Name : MUHAMMAD\n",
      "Last Name : FARHAT TAYYAB\n",
      "Age : 18\n",
      "City : Karachi\n",
      "qualification : High acadmic\n",
      "\n",
      "\n",
      "First Name : MUHAMMAD\n",
      "Last Name : FARHAT TAYYAB\n",
      "Age : 18\n",
      "City : Karachi\n"
     ]
    }
   ],
   "source": [
    "dictionary={\"First Name\":\"MUHAMMAD\",\"Last Name\":\"FARHAT TAYYAB\",\"Age\":\"18\",\"City\":\"Karachi\"}\n",
    "for dic, non in dictionary.items():\n",
    "    print(dic+\" : \"+non)\n",
    "    \n",
    "print(\"\\n\")\n",
    "dictionary[\"qualification\"]=\"Intermediate\"\n",
    "for dic, non in dictionary.items():\n",
    "    print(dic+\" : \"+non) \n",
    "    \n",
    "print(\"\\n\")\n",
    "dictionary[\"qualification\"]=\"High acadmic\"\n",
    "for dic, non in dictionary.items():\n",
    "    print(dic+\" : \"+non)\n",
    "    \n",
    "    \n",
    "del dictionary[\"qualification\"]  \n",
    "    \n",
    "print(\"\\n\")\n",
    "\n",
    "for dic, non in dictionary.items():\n",
    "    print(dic+\" : \"+non)"
   ]
  },
  {
   "cell_type": "code",
   "execution_count": 2,
   "metadata": {},
   "outputs": [
    {
     "name": "stdout",
     "output_type": "stream",
     "text": [
      "KARACHI\n",
      "Country : PAKISTAN\n",
      "Population : 18891076\n",
      "Fact : Karachi is the largest and most populous metropolitan city in Pakistan and the capital of Sindh province. Located on the Arabian Sea, Karachi is also known as the City of Lights and The Bride of the Cities\n",
      "LAHORE\n",
      "Country : PAKISTAN\n",
      "Population : 11126285\n",
      "Fact : Lahore is the capital city of the Pakistani province of Punjab. It is the second largest and most populous city in Pakistan\n",
      "Islamabad\n",
      "Country : PAKISTAN\n",
      "Population : 1009832\n",
      "Fact : The city's master-plan, designed by Greek architect Constantinos Apostolou Doxiadis, divides the city into eight zones, including administrative, diplomatic enclave, residential areas, educational sectors, industrial sectors, commercial areas, and rural and green areas.\n"
     ]
    }
   ],
   "source": [
    "cities={\n",
    "    \"KARACHI\":{\n",
    "        \"Country\":\"PAKISTAN\",\n",
    "        \"Population\":18891076,\n",
    "        \"Fact\":\"Karachi is the largest and most populous metropolitan city in Pakistan and the capital of Sindh province. Located on the Arabian Sea, Karachi is also known as the City of Lights and The Bride of the Cities\"    },\n",
    "    \"LAHORE\":{\n",
    "        \"Country\":\"PAKISTAN\",\n",
    "        \"Population\":11126285,\n",
    "        \"Fact\":\"Lahore is the capital city of the Pakistani province of Punjab. It is the second largest and most populous city in Pakistan\"\n",
    "    },\n",
    "    \"Islamabad\":{\n",
    "        \"Country\":\"PAKISTAN\",\n",
    "        \"Population\":1009832,\n",
    "        \"Fact\":\"The city's master-plan, designed by Greek architect Constantinos Apostolou Doxiadis, divides the city into eight zones, including administrative, diplomatic enclave, residential areas, educational sectors, industrial sectors, commercial areas, and rural and green areas.\"\n",
    "    }\n",
    "}\n",
    "for key,value in cities.items():\n",
    "    print(key)\n",
    "    for city in value:\n",
    "        print(city+\" : \"+str(value[city]))"
   ]
  },
  {
   "cell_type": "code",
   "execution_count": 3,
   "metadata": {},
   "outputs": [
    {
     "name": "stdout",
     "output_type": "stream",
     "text": [
      "Enter Age : 10\n",
      "Ticket is 10$\n",
      "\n",
      "\n",
      "Are you want to take ticket yes/no: yes\n",
      "Enter Age : 3\n",
      "Ticket is 10$\n",
      "\n",
      "\n",
      "Are you want to take ticket yes/no: no\n"
     ]
    }
   ],
   "source": [
    "flag='yes'\n",
    "while flag!='no':\n",
    "    age=int(input(\"Enter Age : \"))\n",
    "    \n",
    "    if age>=12:\n",
    "        print(\"Ticket is 15$\")\n",
    "    elif age>=3:\n",
    "        print(\"Ticket is 10$\")\n",
    "    else:\n",
    "        print(\"Ticket is free\")\n",
    "    print(\"\\n\")\n",
    "    flag=input(\"Are you want to take ticket yes/no: \")"
   ]
  },
  {
   "cell_type": "code",
   "execution_count": 6,
   "metadata": {},
   "outputs": [
    {
     "name": "stdout",
     "output_type": "stream",
     "text": [
      "ONE OF MY FAVORITE BOOKS IS CALCULIUS.\n"
     ]
    }
   ],
   "source": [
    "def Good_book(title):\n",
    "    print(title)\n",
    "book_title=\"ONE OF MY FAVORITE BOOKS IS CALCULIUS.\"\n",
    "if(len(book_title)!=0):\n",
    "    favorite_book(book_title)\n",
    "else:\n",
    "    print(\"Please populate the book title\")"
   ]
  },
  {
   "cell_type": "code",
   "execution_count": 7,
   "metadata": {},
   "outputs": [
    {
     "name": "stdout",
     "output_type": "stream",
     "text": [
      "Please enter your guess: 30\n",
      "\n",
      "Your guess is too high\n",
      "16\n"
     ]
    }
   ],
   "source": [
    "import random\n",
    " \n",
    "hidden = random.randrange(1, 201)\n",
    " \n",
    "guess = int(input(\"Please enter your guess: \"))\n",
    " \n",
    "if guess == hidden:\n",
    "    print(\"\\nHit!\")\n",
    "elif guess < hidden:\n",
    "    print(\"\\nYour guess is too low\")\n",
    "else:\n",
    "    print(\"\\nYour guess is too high\")\n",
    "    \n",
    "print(hidden)"
   ]
  },
  {
   "cell_type": "code",
   "execution_count": null,
   "metadata": {},
   "outputs": [],
   "source": []
  }
 ],
 "metadata": {
  "kernelspec": {
   "display_name": "Python 3",
   "language": "python",
   "name": "python3"
  },
  "language_info": {
   "codemirror_mode": {
    "name": "ipython",
    "version": 3
   },
   "file_extension": ".py",
   "mimetype": "text/x-python",
   "name": "python",
   "nbconvert_exporter": "python",
   "pygments_lexer": "ipython3",
   "version": "3.7.4"
  }
 },
 "nbformat": 4,
 "nbformat_minor": 2
}
